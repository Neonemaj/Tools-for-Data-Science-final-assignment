{
 "cells": [
  {
   "cell_type": "markdown",
   "id": "be9d008c-d35b-46a1-a5a2-771d0d07340a",
   "metadata": {},
   "source": [
    "<center>\r\n",
    "    <img src=\"https://cf-courses-data.s3.us.cloud-object-storage.appdomain.cloud/IBMDeveloperSkillsNetwork-DS0105EN-SkillsNetwork/labs/Module2/images/SN_web_lightmode.png\" width=\"300\" alt=\"cognitiveclass.ai logo\">\r\n",
    "</center>\r\n"
   ]
  },
  {
   "cell_type": "markdown",
   "id": "2b081ce1-6f70-48a0-965f-76003821281e",
   "metadata": {},
   "source": [
    "# Data Science Tools and Ecosystem"
   ]
  },
  {
   "cell_type": "markdown",
   "id": "d9059696-8ed0-4198-8d93-e5b417afed3f",
   "metadata": {},
   "source": [
    "In this notebook, Data Science Tools and Ecosystem are summarized."
   ]
  },
  {
   "cell_type": "markdown",
   "id": "8e547bf1-e79a-4581-8725-ea4167d3e30c",
   "metadata": {},
   "source": [
    "**Objectives:**\n",
    "- Listing some popular languages\n",
    "- Listing some popular libraries\n",
    "- Presenting some popular open-source tools\n",
    "- Evaluating basic arithmetic espressions in Python"
   ]
  },
  {
   "cell_type": "markdown",
   "id": "34ee5e62-f28c-4bae-a8bd-da1cc0662851",
   "metadata": {},
   "source": [
    "Some of the popular languages that Data Scientists use are:\n",
    "1. Python\n",
    "2. R\n",
    "3. SQL\n",
    "4. Java\n",
    "5. C++\n",
    "6. Julia\n",
    "7. JavaScript"
   ]
  },
  {
   "cell_type": "markdown",
   "id": "c078a4cf-610c-41a8-a9e3-c76bd8b7f52d",
   "metadata": {},
   "source": [
    "Some of the commonly used libraries used by Data Scientists include:\n",
    "1. Pandas\n",
    "2. Numpy\n",
    "3. Scipy\n",
    "4. Scikit-learn\n",
    "5. Matplotlib\n",
    "6. Seaborn\n",
    "7. ggplot2\n",
    "8. Lattice\n",
    "9. GGally\n",
    "10. Plotly"
   ]
  },
  {
   "cell_type": "markdown",
   "id": "b52c6075-ed17-4f14-b065-5f0e0c112d9a",
   "metadata": {},
   "source": [
    "| Data Science Tools |\n",
    "| --- |\n",
    "| MySQL |\n",
    "| Seldon |\n",
    "| Apache Kafka |"
   ]
  },
  {
   "cell_type": "markdown",
   "id": "894cb468-0fc1-48f9-9d3f-8958948351fa",
   "metadata": {},
   "source": [
    "### Below are a few examples of evaluating arithmetic expressions in Python"
   ]
  },
  {
   "cell_type": "code",
   "execution_count": 1,
   "id": "0c5290b0-78bc-4b37-9e29-0b0e0bdc1b0b",
   "metadata": {},
   "outputs": [
    {
     "data": {
      "text/plain": [
       "17"
      ]
     },
     "execution_count": 1,
     "metadata": {},
     "output_type": "execute_result"
    }
   ],
   "source": [
    "# This a simple arithmetic expression to mutiply then add integers\n",
    "(3 * 4) + 5"
   ]
  },
  {
   "cell_type": "code",
   "execution_count": 2,
   "id": "6358af1e-c690-469c-9f01-1a262f73315f",
   "metadata": {},
   "outputs": [
    {
     "data": {
      "text/plain": [
       "3.3333333333333335"
      ]
     },
     "execution_count": 2,
     "metadata": {},
     "output_type": "execute_result"
    }
   ],
   "source": [
    "# This will convert 200 minutes to hours by diving by 60\n",
    "200 / 60"
   ]
  },
  {
   "cell_type": "markdown",
   "id": "904269fb-a97f-4b1b-851f-5aabb2ba8086",
   "metadata": {},
   "source": [
    "## Author\n",
    "Bartłomiej Janas"
   ]
  }
 ],
 "metadata": {
  "kernelspec": {
   "display_name": "Python 3 (ipykernel)",
   "language": "python",
   "name": "python3"
  },
  "language_info": {
   "codemirror_mode": {
    "name": "ipython",
    "version": 3
   },
   "file_extension": ".py",
   "mimetype": "text/x-python",
   "name": "python",
   "nbconvert_exporter": "python",
   "pygments_lexer": "ipython3",
   "version": "3.12.0"
  }
 },
 "nbformat": 4,
 "nbformat_minor": 5
}
